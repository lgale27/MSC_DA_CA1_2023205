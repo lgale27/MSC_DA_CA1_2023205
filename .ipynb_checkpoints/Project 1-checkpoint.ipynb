{
 "cells": [
  {
   "cell_type": "code",
   "execution_count": 25,
   "id": "33efee1f",
   "metadata": {},
   "outputs": [],
   "source": [
    "import pandas as pd\n",
    "import seaborn as sns\n",
    "import matplotlib.pyplot as plt"
   ]
  },
  {
   "cell_type": "code",
   "execution_count": 26,
   "id": "2afc893a",
   "metadata": {
    "scrolled": true
   },
   "outputs": [
    {
     "data": {
      "text/html": [
       "<div>\n",
       "<style scoped>\n",
       "    .dataframe tbody tr th:only-of-type {\n",
       "        vertical-align: middle;\n",
       "    }\n",
       "\n",
       "    .dataframe tbody tr th {\n",
       "        vertical-align: top;\n",
       "    }\n",
       "\n",
       "    .dataframe thead th {\n",
       "        text-align: right;\n",
       "    }\n",
       "</style>\n",
       "<table border=\"1\" class=\"dataframe\">\n",
       "  <thead>\n",
       "    <tr style=\"text-align: right;\">\n",
       "      <th></th>\n",
       "      <th>Statistic Label</th>\n",
       "      <th>CensusYear</th>\n",
       "      <th>Sex</th>\n",
       "      <th>Age Group</th>\n",
       "      <th>Birthplace</th>\n",
       "      <th>UNIT</th>\n",
       "      <th>VALUE</th>\n",
       "    </tr>\n",
       "  </thead>\n",
       "  <tbody>\n",
       "    <tr>\n",
       "      <th>0</th>\n",
       "      <td>Population Usually Resident and Present in the...</td>\n",
       "      <td>2011</td>\n",
       "      <td>Both sexes</td>\n",
       "      <td>All ages</td>\n",
       "      <td>All countries</td>\n",
       "      <td>Number</td>\n",
       "      <td>4525281.0</td>\n",
       "    </tr>\n",
       "    <tr>\n",
       "      <th>1</th>\n",
       "      <td>Population Usually Resident and Present in the...</td>\n",
       "      <td>2011</td>\n",
       "      <td>Both sexes</td>\n",
       "      <td>All ages</td>\n",
       "      <td>Ireland - county of usual residence</td>\n",
       "      <td>Number</td>\n",
       "      <td>2825408.0</td>\n",
       "    </tr>\n",
       "    <tr>\n",
       "      <th>2</th>\n",
       "      <td>Population Usually Resident and Present in the...</td>\n",
       "      <td>2011</td>\n",
       "      <td>Both sexes</td>\n",
       "      <td>All ages</td>\n",
       "      <td>Ireland - county other than county of usual re...</td>\n",
       "      <td>Number</td>\n",
       "      <td>933103.0</td>\n",
       "    </tr>\n",
       "    <tr>\n",
       "      <th>3</th>\n",
       "      <td>Population Usually Resident and Present in the...</td>\n",
       "      <td>2011</td>\n",
       "      <td>Both sexes</td>\n",
       "      <td>All ages</td>\n",
       "      <td>Northern Ireland</td>\n",
       "      <td>Number</td>\n",
       "      <td>58470.0</td>\n",
       "    </tr>\n",
       "    <tr>\n",
       "      <th>4</th>\n",
       "      <td>Population Usually Resident and Present in the...</td>\n",
       "      <td>2011</td>\n",
       "      <td>Both sexes</td>\n",
       "      <td>All ages</td>\n",
       "      <td>Scotland</td>\n",
       "      <td>Number</td>\n",
       "      <td>17871.0</td>\n",
       "    </tr>\n",
       "    <tr>\n",
       "      <th>5</th>\n",
       "      <td>Population Usually Resident and Present in the...</td>\n",
       "      <td>2011</td>\n",
       "      <td>Both sexes</td>\n",
       "      <td>All ages</td>\n",
       "      <td>England and Wales</td>\n",
       "      <td>Number</td>\n",
       "      <td>212296.0</td>\n",
       "    </tr>\n",
       "    <tr>\n",
       "      <th>6</th>\n",
       "      <td>Population Usually Resident and Present in the...</td>\n",
       "      <td>2011</td>\n",
       "      <td>Both sexes</td>\n",
       "      <td>All ages</td>\n",
       "      <td>Austria</td>\n",
       "      <td>Number</td>\n",
       "      <td>708.0</td>\n",
       "    </tr>\n",
       "    <tr>\n",
       "      <th>7</th>\n",
       "      <td>Population Usually Resident and Present in the...</td>\n",
       "      <td>2011</td>\n",
       "      <td>Both sexes</td>\n",
       "      <td>All ages</td>\n",
       "      <td>Belgium</td>\n",
       "      <td>Number</td>\n",
       "      <td>1479.0</td>\n",
       "    </tr>\n",
       "    <tr>\n",
       "      <th>8</th>\n",
       "      <td>Population Usually Resident and Present in the...</td>\n",
       "      <td>2011</td>\n",
       "      <td>Both sexes</td>\n",
       "      <td>All ages</td>\n",
       "      <td>Bulgaria</td>\n",
       "      <td>Number</td>\n",
       "      <td>1783.0</td>\n",
       "    </tr>\n",
       "    <tr>\n",
       "      <th>9</th>\n",
       "      <td>Population Usually Resident and Present in the...</td>\n",
       "      <td>2011</td>\n",
       "      <td>Both sexes</td>\n",
       "      <td>All ages</td>\n",
       "      <td>Croatia</td>\n",
       "      <td>Number</td>\n",
       "      <td>980.0</td>\n",
       "    </tr>\n",
       "    <tr>\n",
       "      <th>10</th>\n",
       "      <td>Population Usually Resident and Present in the...</td>\n",
       "      <td>2011</td>\n",
       "      <td>Both sexes</td>\n",
       "      <td>All ages</td>\n",
       "      <td>Cyprus</td>\n",
       "      <td>Number</td>\n",
       "      <td>260.0</td>\n",
       "    </tr>\n",
       "    <tr>\n",
       "      <th>11</th>\n",
       "      <td>Population Usually Resident and Present in the...</td>\n",
       "      <td>2011</td>\n",
       "      <td>Both sexes</td>\n",
       "      <td>All ages</td>\n",
       "      <td>Czechia</td>\n",
       "      <td>Number</td>\n",
       "      <td>5494.0</td>\n",
       "    </tr>\n",
       "    <tr>\n",
       "      <th>12</th>\n",
       "      <td>Population Usually Resident and Present in the...</td>\n",
       "      <td>2011</td>\n",
       "      <td>Both sexes</td>\n",
       "      <td>All ages</td>\n",
       "      <td>Denmark</td>\n",
       "      <td>Number</td>\n",
       "      <td>885.0</td>\n",
       "    </tr>\n",
       "    <tr>\n",
       "      <th>13</th>\n",
       "      <td>Population Usually Resident and Present in the...</td>\n",
       "      <td>2011</td>\n",
       "      <td>Both sexes</td>\n",
       "      <td>All ages</td>\n",
       "      <td>Estonia</td>\n",
       "      <td>Number</td>\n",
       "      <td>2479.0</td>\n",
       "    </tr>\n",
       "    <tr>\n",
       "      <th>14</th>\n",
       "      <td>Population Usually Resident and Present in the...</td>\n",
       "      <td>2011</td>\n",
       "      <td>Both sexes</td>\n",
       "      <td>All ages</td>\n",
       "      <td>Finland</td>\n",
       "      <td>Number</td>\n",
       "      <td>873.0</td>\n",
       "    </tr>\n",
       "    <tr>\n",
       "      <th>15</th>\n",
       "      <td>Population Usually Resident and Present in the...</td>\n",
       "      <td>2011</td>\n",
       "      <td>Both sexes</td>\n",
       "      <td>All ages</td>\n",
       "      <td>France</td>\n",
       "      <td>Number</td>\n",
       "      <td>10081.0</td>\n",
       "    </tr>\n",
       "    <tr>\n",
       "      <th>16</th>\n",
       "      <td>Population Usually Resident and Present in the...</td>\n",
       "      <td>2011</td>\n",
       "      <td>Both sexes</td>\n",
       "      <td>All ages</td>\n",
       "      <td>Germany</td>\n",
       "      <td>Number</td>\n",
       "      <td>12980.0</td>\n",
       "    </tr>\n",
       "    <tr>\n",
       "      <th>17</th>\n",
       "      <td>Population Usually Resident and Present in the...</td>\n",
       "      <td>2011</td>\n",
       "      <td>Both sexes</td>\n",
       "      <td>All ages</td>\n",
       "      <td>Greece</td>\n",
       "      <td>Number</td>\n",
       "      <td>575.0</td>\n",
       "    </tr>\n",
       "    <tr>\n",
       "      <th>18</th>\n",
       "      <td>Population Usually Resident and Present in the...</td>\n",
       "      <td>2011</td>\n",
       "      <td>Both sexes</td>\n",
       "      <td>All ages</td>\n",
       "      <td>Hungary</td>\n",
       "      <td>Number</td>\n",
       "      <td>7413.0</td>\n",
       "    </tr>\n",
       "    <tr>\n",
       "      <th>19</th>\n",
       "      <td>Population Usually Resident and Present in the...</td>\n",
       "      <td>2011</td>\n",
       "      <td>Both sexes</td>\n",
       "      <td>All ages</td>\n",
       "      <td>Italy</td>\n",
       "      <td>Number</td>\n",
       "      <td>7146.0</td>\n",
       "    </tr>\n",
       "  </tbody>\n",
       "</table>\n",
       "</div>"
      ],
      "text/plain": [
       "                                      Statistic Label  CensusYear         Sex  \\\n",
       "0   Population Usually Resident and Present in the...        2011  Both sexes   \n",
       "1   Population Usually Resident and Present in the...        2011  Both sexes   \n",
       "2   Population Usually Resident and Present in the...        2011  Both sexes   \n",
       "3   Population Usually Resident and Present in the...        2011  Both sexes   \n",
       "4   Population Usually Resident and Present in the...        2011  Both sexes   \n",
       "5   Population Usually Resident and Present in the...        2011  Both sexes   \n",
       "6   Population Usually Resident and Present in the...        2011  Both sexes   \n",
       "7   Population Usually Resident and Present in the...        2011  Both sexes   \n",
       "8   Population Usually Resident and Present in the...        2011  Both sexes   \n",
       "9   Population Usually Resident and Present in the...        2011  Both sexes   \n",
       "10  Population Usually Resident and Present in the...        2011  Both sexes   \n",
       "11  Population Usually Resident and Present in the...        2011  Both sexes   \n",
       "12  Population Usually Resident and Present in the...        2011  Both sexes   \n",
       "13  Population Usually Resident and Present in the...        2011  Both sexes   \n",
       "14  Population Usually Resident and Present in the...        2011  Both sexes   \n",
       "15  Population Usually Resident and Present in the...        2011  Both sexes   \n",
       "16  Population Usually Resident and Present in the...        2011  Both sexes   \n",
       "17  Population Usually Resident and Present in the...        2011  Both sexes   \n",
       "18  Population Usually Resident and Present in the...        2011  Both sexes   \n",
       "19  Population Usually Resident and Present in the...        2011  Both sexes   \n",
       "\n",
       "   Age Group                                         Birthplace    UNIT  \\\n",
       "0   All ages                                      All countries  Number   \n",
       "1   All ages                Ireland - county of usual residence  Number   \n",
       "2   All ages  Ireland - county other than county of usual re...  Number   \n",
       "3   All ages                                   Northern Ireland  Number   \n",
       "4   All ages                                           Scotland  Number   \n",
       "5   All ages                                  England and Wales  Number   \n",
       "6   All ages                                            Austria  Number   \n",
       "7   All ages                                            Belgium  Number   \n",
       "8   All ages                                           Bulgaria  Number   \n",
       "9   All ages                                            Croatia  Number   \n",
       "10  All ages                                             Cyprus  Number   \n",
       "11  All ages                                            Czechia  Number   \n",
       "12  All ages                                            Denmark  Number   \n",
       "13  All ages                                            Estonia  Number   \n",
       "14  All ages                                            Finland  Number   \n",
       "15  All ages                                             France  Number   \n",
       "16  All ages                                            Germany  Number   \n",
       "17  All ages                                             Greece  Number   \n",
       "18  All ages                                            Hungary  Number   \n",
       "19  All ages                                              Italy  Number   \n",
       "\n",
       "        VALUE  \n",
       "0   4525281.0  \n",
       "1   2825408.0  \n",
       "2    933103.0  \n",
       "3     58470.0  \n",
       "4     17871.0  \n",
       "5    212296.0  \n",
       "6       708.0  \n",
       "7      1479.0  \n",
       "8      1783.0  \n",
       "9       980.0  \n",
       "10      260.0  \n",
       "11     5494.0  \n",
       "12      885.0  \n",
       "13     2479.0  \n",
       "14      873.0  \n",
       "15    10081.0  \n",
       "16    12980.0  \n",
       "17      575.0  \n",
       "18     7413.0  \n",
       "19     7146.0  "
      ]
     },
     "execution_count": 26,
     "metadata": {},
     "output_type": "execute_result"
    }
   ],
   "source": [
    "df = pd.read_csv(\"FY016.csv\")\n",
    "df.head(20)"
   ]
  },
  {
   "cell_type": "code",
   "execution_count": 27,
   "id": "761b7860",
   "metadata": {},
   "outputs": [
    {
     "data": {
      "text/plain": [
       "(19926, 7)"
      ]
     },
     "execution_count": 27,
     "metadata": {},
     "output_type": "execute_result"
    }
   ],
   "source": [
    "df.shape"
   ]
  },
  {
   "cell_type": "code",
   "execution_count": 28,
   "id": "f7607d30",
   "metadata": {},
   "outputs": [
    {
     "data": {
      "text/plain": [
       "Statistic Label     object\n",
       "CensusYear           int64\n",
       "Sex                 object\n",
       "Age Group           object\n",
       "Birthplace          object\n",
       "UNIT                object\n",
       "VALUE              float64\n",
       "dtype: object"
      ]
     },
     "execution_count": 28,
     "metadata": {},
     "output_type": "execute_result"
    }
   ],
   "source": [
    "df.dtypes"
   ]
  },
  {
   "cell_type": "code",
   "execution_count": 29,
   "id": "bd892664",
   "metadata": {},
   "outputs": [
    {
     "data": {
      "text/html": [
       "<div>\n",
       "<style scoped>\n",
       "    .dataframe tbody tr th:only-of-type {\n",
       "        vertical-align: middle;\n",
       "    }\n",
       "\n",
       "    .dataframe tbody tr th {\n",
       "        vertical-align: top;\n",
       "    }\n",
       "\n",
       "    .dataframe thead th {\n",
       "        text-align: right;\n",
       "    }\n",
       "</style>\n",
       "<table border=\"1\" class=\"dataframe\">\n",
       "  <thead>\n",
       "    <tr style=\"text-align: right;\">\n",
       "      <th></th>\n",
       "      <th>CensusYear</th>\n",
       "      <th>VALUE</th>\n",
       "    </tr>\n",
       "  </thead>\n",
       "  <tbody>\n",
       "    <tr>\n",
       "      <th>count</th>\n",
       "      <td>19926.000000</td>\n",
       "      <td>1.992600e+04</td>\n",
       "    </tr>\n",
       "    <tr>\n",
       "      <th>mean</th>\n",
       "      <td>2016.333333</td>\n",
       "      <td>5.979170e+03</td>\n",
       "    </tr>\n",
       "    <tr>\n",
       "      <th>std</th>\n",
       "      <td>4.497025</td>\n",
       "      <td>9.428216e+04</td>\n",
       "    </tr>\n",
       "    <tr>\n",
       "      <th>min</th>\n",
       "      <td>2011.000000</td>\n",
       "      <td>-4.563800e+04</td>\n",
       "    </tr>\n",
       "    <tr>\n",
       "      <th>25%</th>\n",
       "      <td>2011.000000</td>\n",
       "      <td>0.000000e+00</td>\n",
       "    </tr>\n",
       "    <tr>\n",
       "      <th>50%</th>\n",
       "      <td>2016.000000</td>\n",
       "      <td>2.800000e+01</td>\n",
       "    </tr>\n",
       "    <tr>\n",
       "      <th>75%</th>\n",
       "      <td>2022.000000</td>\n",
       "      <td>1.590000e+02</td>\n",
       "    </tr>\n",
       "    <tr>\n",
       "      <th>max</th>\n",
       "      <td>2022.000000</td>\n",
       "      <td>5.084879e+06</td>\n",
       "    </tr>\n",
       "  </tbody>\n",
       "</table>\n",
       "</div>"
      ],
      "text/plain": [
       "         CensusYear         VALUE\n",
       "count  19926.000000  1.992600e+04\n",
       "mean    2016.333333  5.979170e+03\n",
       "std        4.497025  9.428216e+04\n",
       "min     2011.000000 -4.563800e+04\n",
       "25%     2011.000000  0.000000e+00\n",
       "50%     2016.000000  2.800000e+01\n",
       "75%     2022.000000  1.590000e+02\n",
       "max     2022.000000  5.084879e+06"
      ]
     },
     "execution_count": 29,
     "metadata": {},
     "output_type": "execute_result"
    }
   ],
   "source": [
    "df.describe()"
   ]
  },
  {
   "cell_type": "code",
   "execution_count": 30,
   "id": "3041d58d",
   "metadata": {
    "scrolled": false
   },
   "outputs": [
    {
     "name": "stdout",
     "output_type": "stream",
     "text": [
      "<class 'pandas.core.frame.DataFrame'>\n",
      "RangeIndex: 19926 entries, 0 to 19925\n",
      "Data columns (total 7 columns):\n",
      " #   Column           Non-Null Count  Dtype  \n",
      "---  ------           --------------  -----  \n",
      " 0   Statistic Label  19926 non-null  object \n",
      " 1   CensusYear       19926 non-null  int64  \n",
      " 2   Sex              19926 non-null  object \n",
      " 3   Age Group        19926 non-null  object \n",
      " 4   Birthplace       19926 non-null  object \n",
      " 5   UNIT             19926 non-null  object \n",
      " 6   VALUE            19926 non-null  float64\n",
      "dtypes: float64(1), int64(1), object(5)\n",
      "memory usage: 1.1+ MB\n"
     ]
    }
   ],
   "source": [
    "df.info()"
   ]
  },
  {
   "cell_type": "code",
   "execution_count": 31,
   "id": "669203bc",
   "metadata": {},
   "outputs": [
    {
     "data": {
      "text/html": [
       "<div>\n",
       "<style scoped>\n",
       "    .dataframe tbody tr th:only-of-type {\n",
       "        vertical-align: middle;\n",
       "    }\n",
       "\n",
       "    .dataframe tbody tr th {\n",
       "        vertical-align: top;\n",
       "    }\n",
       "\n",
       "    .dataframe thead th {\n",
       "        text-align: right;\n",
       "    }\n",
       "</style>\n",
       "<table border=\"1\" class=\"dataframe\">\n",
       "  <thead>\n",
       "    <tr style=\"text-align: right;\">\n",
       "      <th></th>\n",
       "      <th>Stat_label</th>\n",
       "      <th>Year</th>\n",
       "      <th>Gender</th>\n",
       "      <th>Age_group</th>\n",
       "      <th>Nationality</th>\n",
       "      <th>Value</th>\n",
       "    </tr>\n",
       "  </thead>\n",
       "  <tbody>\n",
       "    <tr>\n",
       "      <th>0</th>\n",
       "      <td>Population Usually Resident and Present in the...</td>\n",
       "      <td>2011</td>\n",
       "      <td>Both sexes</td>\n",
       "      <td>All ages</td>\n",
       "      <td>All countries</td>\n",
       "      <td>4525281.0</td>\n",
       "    </tr>\n",
       "    <tr>\n",
       "      <th>1</th>\n",
       "      <td>Population Usually Resident and Present in the...</td>\n",
       "      <td>2011</td>\n",
       "      <td>Both sexes</td>\n",
       "      <td>All ages</td>\n",
       "      <td>Ireland - county of usual residence</td>\n",
       "      <td>2825408.0</td>\n",
       "    </tr>\n",
       "    <tr>\n",
       "      <th>2</th>\n",
       "      <td>Population Usually Resident and Present in the...</td>\n",
       "      <td>2011</td>\n",
       "      <td>Both sexes</td>\n",
       "      <td>All ages</td>\n",
       "      <td>Ireland - county other than county of usual re...</td>\n",
       "      <td>933103.0</td>\n",
       "    </tr>\n",
       "    <tr>\n",
       "      <th>3</th>\n",
       "      <td>Population Usually Resident and Present in the...</td>\n",
       "      <td>2011</td>\n",
       "      <td>Both sexes</td>\n",
       "      <td>All ages</td>\n",
       "      <td>Northern Ireland</td>\n",
       "      <td>58470.0</td>\n",
       "    </tr>\n",
       "    <tr>\n",
       "      <th>4</th>\n",
       "      <td>Population Usually Resident and Present in the...</td>\n",
       "      <td>2011</td>\n",
       "      <td>Both sexes</td>\n",
       "      <td>All ages</td>\n",
       "      <td>Scotland</td>\n",
       "      <td>17871.0</td>\n",
       "    </tr>\n",
       "    <tr>\n",
       "      <th>...</th>\n",
       "      <td>...</td>\n",
       "      <td>...</td>\n",
       "      <td>...</td>\n",
       "      <td>...</td>\n",
       "      <td>...</td>\n",
       "      <td>...</td>\n",
       "    </tr>\n",
       "    <tr>\n",
       "      <th>19921</th>\n",
       "      <td>Percentage change since previous census</td>\n",
       "      <td>2022</td>\n",
       "      <td>Female</td>\n",
       "      <td>65 years and over</td>\n",
       "      <td>Venezuela (Bolivarian Republic of)</td>\n",
       "      <td>360.0</td>\n",
       "    </tr>\n",
       "    <tr>\n",
       "      <th>19922</th>\n",
       "      <td>Percentage change since previous census</td>\n",
       "      <td>2022</td>\n",
       "      <td>Female</td>\n",
       "      <td>65 years and over</td>\n",
       "      <td>Other America(2)</td>\n",
       "      <td>110.9</td>\n",
       "    </tr>\n",
       "    <tr>\n",
       "      <th>19923</th>\n",
       "      <td>Percentage change since previous census</td>\n",
       "      <td>2022</td>\n",
       "      <td>Female</td>\n",
       "      <td>65 years and over</td>\n",
       "      <td>Australia</td>\n",
       "      <td>67.6</td>\n",
       "    </tr>\n",
       "    <tr>\n",
       "      <th>19924</th>\n",
       "      <td>Percentage change since previous census</td>\n",
       "      <td>2022</td>\n",
       "      <td>Female</td>\n",
       "      <td>65 years and over</td>\n",
       "      <td>New Zealand</td>\n",
       "      <td>51.9</td>\n",
       "    </tr>\n",
       "    <tr>\n",
       "      <th>19925</th>\n",
       "      <td>Percentage change since previous census</td>\n",
       "      <td>2022</td>\n",
       "      <td>Female</td>\n",
       "      <td>65 years and over</td>\n",
       "      <td>Other countries</td>\n",
       "      <td>38.9</td>\n",
       "    </tr>\n",
       "  </tbody>\n",
       "</table>\n",
       "<p>19926 rows × 6 columns</p>\n",
       "</div>"
      ],
      "text/plain": [
       "                                              Stat_label  Year      Gender  \\\n",
       "0      Population Usually Resident and Present in the...  2011  Both sexes   \n",
       "1      Population Usually Resident and Present in the...  2011  Both sexes   \n",
       "2      Population Usually Resident and Present in the...  2011  Both sexes   \n",
       "3      Population Usually Resident and Present in the...  2011  Both sexes   \n",
       "4      Population Usually Resident and Present in the...  2011  Both sexes   \n",
       "...                                                  ...   ...         ...   \n",
       "19921            Percentage change since previous census  2022      Female   \n",
       "19922            Percentage change since previous census  2022      Female   \n",
       "19923            Percentage change since previous census  2022      Female   \n",
       "19924            Percentage change since previous census  2022      Female   \n",
       "19925            Percentage change since previous census  2022      Female   \n",
       "\n",
       "               Age_group                                        Nationality  \\\n",
       "0               All ages                                      All countries   \n",
       "1               All ages                Ireland - county of usual residence   \n",
       "2               All ages  Ireland - county other than county of usual re...   \n",
       "3               All ages                                   Northern Ireland   \n",
       "4               All ages                                           Scotland   \n",
       "...                  ...                                                ...   \n",
       "19921  65 years and over                 Venezuela (Bolivarian Republic of)   \n",
       "19922  65 years and over                                   Other America(2)   \n",
       "19923  65 years and over                                          Australia   \n",
       "19924  65 years and over                                        New Zealand   \n",
       "19925  65 years and over                                    Other countries   \n",
       "\n",
       "           Value  \n",
       "0      4525281.0  \n",
       "1      2825408.0  \n",
       "2       933103.0  \n",
       "3        58470.0  \n",
       "4        17871.0  \n",
       "...          ...  \n",
       "19921      360.0  \n",
       "19922      110.9  \n",
       "19923       67.6  \n",
       "19924       51.9  \n",
       "19925       38.9  \n",
       "\n",
       "[19926 rows x 6 columns]"
      ]
     },
     "execution_count": 31,
     "metadata": {},
     "output_type": "execute_result"
    }
   ],
   "source": [
    "df.rename(columns = {\"Statistic Label\": \"Stat_label\", \"CensusYear\": \"Year\", \"Sex\": \"Gender\", \"Age Group\": \"Age_group\",\"Birthplace\": \"Nationality\", \"VALUE\": \"Value\"}, inplace = True)\n",
    "df.drop(columns = [\"UNIT\"], inplace = True)\n",
    "df"
   ]
  },
  {
   "cell_type": "code",
   "execution_count": 32,
   "id": "d79efc97",
   "metadata": {
    "scrolled": true
   },
   "outputs": [
    {
     "name": "stdout",
     "output_type": "stream",
     "text": [
      "Stat_label: ['Population Usually Resident and Present in the State'\n",
      " 'Actual change since previous census'\n",
      " 'Percentage change since previous census']\n",
      "Stat_label: 3\n"
     ]
    }
   ],
   "source": [
    "print(f'Stat_label: {df[\"Stat_label\"].unique()}')\n",
    "print(f'Stat_label: {df[\"Stat_label\"].nunique()}')"
   ]
  },
  {
   "cell_type": "code",
   "execution_count": 33,
   "id": "7cd56c16",
   "metadata": {
    "scrolled": true
   },
   "outputs": [
    {
     "data": {
      "text/html": [
       "<div>\n",
       "<style scoped>\n",
       "    .dataframe tbody tr th:only-of-type {\n",
       "        vertical-align: middle;\n",
       "    }\n",
       "\n",
       "    .dataframe tbody tr th {\n",
       "        vertical-align: top;\n",
       "    }\n",
       "\n",
       "    .dataframe thead th {\n",
       "        text-align: right;\n",
       "    }\n",
       "</style>\n",
       "<table border=\"1\" class=\"dataframe\">\n",
       "  <thead>\n",
       "    <tr style=\"text-align: right;\">\n",
       "      <th></th>\n",
       "      <th>Stat_label</th>\n",
       "      <th>Year</th>\n",
       "      <th>Gender</th>\n",
       "      <th>Age_group</th>\n",
       "      <th>Nationality</th>\n",
       "      <th>Value</th>\n",
       "    </tr>\n",
       "  </thead>\n",
       "  <tbody>\n",
       "    <tr>\n",
       "      <th>0</th>\n",
       "      <td>Population Usually Resident and Present in the...</td>\n",
       "      <td>2011</td>\n",
       "      <td>Both sexes</td>\n",
       "      <td>All ages</td>\n",
       "      <td>All countries</td>\n",
       "      <td>4525281.0</td>\n",
       "    </tr>\n",
       "    <tr>\n",
       "      <th>1</th>\n",
       "      <td>Population Usually Resident and Present in the...</td>\n",
       "      <td>2011</td>\n",
       "      <td>Both sexes</td>\n",
       "      <td>All ages</td>\n",
       "      <td>Ireland - county of usual residence</td>\n",
       "      <td>2825408.0</td>\n",
       "    </tr>\n",
       "    <tr>\n",
       "      <th>2</th>\n",
       "      <td>Population Usually Resident and Present in the...</td>\n",
       "      <td>2011</td>\n",
       "      <td>Both sexes</td>\n",
       "      <td>All ages</td>\n",
       "      <td>Ireland - county other than county of usual re...</td>\n",
       "      <td>933103.0</td>\n",
       "    </tr>\n",
       "    <tr>\n",
       "      <th>3</th>\n",
       "      <td>Population Usually Resident and Present in the...</td>\n",
       "      <td>2011</td>\n",
       "      <td>Both sexes</td>\n",
       "      <td>All ages</td>\n",
       "      <td>Northern Ireland</td>\n",
       "      <td>58470.0</td>\n",
       "    </tr>\n",
       "    <tr>\n",
       "      <th>4</th>\n",
       "      <td>Population Usually Resident and Present in the...</td>\n",
       "      <td>2011</td>\n",
       "      <td>Both sexes</td>\n",
       "      <td>All ages</td>\n",
       "      <td>Scotland</td>\n",
       "      <td>17871.0</td>\n",
       "    </tr>\n",
       "  </tbody>\n",
       "</table>\n",
       "</div>"
      ],
      "text/plain": [
       "                                          Stat_label  Year      Gender  \\\n",
       "0  Population Usually Resident and Present in the...  2011  Both sexes   \n",
       "1  Population Usually Resident and Present in the...  2011  Both sexes   \n",
       "2  Population Usually Resident and Present in the...  2011  Both sexes   \n",
       "3  Population Usually Resident and Present in the...  2011  Both sexes   \n",
       "4  Population Usually Resident and Present in the...  2011  Both sexes   \n",
       "\n",
       "  Age_group                                        Nationality      Value  \n",
       "0  All ages                                      All countries  4525281.0  \n",
       "1  All ages                Ireland - county of usual residence  2825408.0  \n",
       "2  All ages  Ireland - county other than county of usual re...   933103.0  \n",
       "3  All ages                                   Northern Ireland    58470.0  \n",
       "4  All ages                                           Scotland    17871.0  "
      ]
     },
     "execution_count": 33,
     "metadata": {},
     "output_type": "execute_result"
    }
   ],
   "source": [
    "df_population = df.loc[df[\"Stat_label\"] == \"Population Usually Resident and Present in the State\"]\n",
    "df_population.head()"
   ]
  },
  {
   "cell_type": "code",
   "execution_count": 54,
   "id": "da9fb387",
   "metadata": {},
   "outputs": [
    {
     "data": {
      "text/html": [
       "<div>\n",
       "<style scoped>\n",
       "    .dataframe tbody tr th:only-of-type {\n",
       "        vertical-align: middle;\n",
       "    }\n",
       "\n",
       "    .dataframe tbody tr th {\n",
       "        vertical-align: top;\n",
       "    }\n",
       "\n",
       "    .dataframe thead th {\n",
       "        text-align: right;\n",
       "    }\n",
       "</style>\n",
       "<table border=\"1\" class=\"dataframe\">\n",
       "  <thead>\n",
       "    <tr style=\"text-align: right;\">\n",
       "      <th></th>\n",
       "      <th>Stat_label</th>\n",
       "      <th>Year</th>\n",
       "      <th>Gender</th>\n",
       "      <th>Age_group</th>\n",
       "      <th>Nationality</th>\n",
       "      <th>Value</th>\n",
       "    </tr>\n",
       "  </thead>\n",
       "  <tbody>\n",
       "    <tr>\n",
       "      <th>6637</th>\n",
       "      <td>Population Usually Resident and Present in the...</td>\n",
       "      <td>2022</td>\n",
       "      <td>Female</td>\n",
       "      <td>65 years and over</td>\n",
       "      <td>Venezuela (Bolivarian Republic of)</td>\n",
       "      <td>23.0</td>\n",
       "    </tr>\n",
       "    <tr>\n",
       "      <th>6638</th>\n",
       "      <td>Population Usually Resident and Present in the...</td>\n",
       "      <td>2022</td>\n",
       "      <td>Female</td>\n",
       "      <td>65 years and over</td>\n",
       "      <td>Other America(2)</td>\n",
       "      <td>97.0</td>\n",
       "    </tr>\n",
       "    <tr>\n",
       "      <th>6639</th>\n",
       "      <td>Population Usually Resident and Present in the...</td>\n",
       "      <td>2022</td>\n",
       "      <td>Female</td>\n",
       "      <td>65 years and over</td>\n",
       "      <td>Australia</td>\n",
       "      <td>186.0</td>\n",
       "    </tr>\n",
       "    <tr>\n",
       "      <th>6640</th>\n",
       "      <td>Population Usually Resident and Present in the...</td>\n",
       "      <td>2022</td>\n",
       "      <td>Female</td>\n",
       "      <td>65 years and over</td>\n",
       "      <td>New Zealand</td>\n",
       "      <td>82.0</td>\n",
       "    </tr>\n",
       "    <tr>\n",
       "      <th>6641</th>\n",
       "      <td>Population Usually Resident and Present in the...</td>\n",
       "      <td>2022</td>\n",
       "      <td>Female</td>\n",
       "      <td>65 years and over</td>\n",
       "      <td>Other countries</td>\n",
       "      <td>50.0</td>\n",
       "    </tr>\n",
       "  </tbody>\n",
       "</table>\n",
       "</div>"
      ],
      "text/plain": [
       "                                             Stat_label  Year  Gender  \\\n",
       "6637  Population Usually Resident and Present in the...  2022  Female   \n",
       "6638  Population Usually Resident and Present in the...  2022  Female   \n",
       "6639  Population Usually Resident and Present in the...  2022  Female   \n",
       "6640  Population Usually Resident and Present in the...  2022  Female   \n",
       "6641  Population Usually Resident and Present in the...  2022  Female   \n",
       "\n",
       "              Age_group                         Nationality  Value  \n",
       "6637  65 years and over  Venezuela (Bolivarian Republic of)   23.0  \n",
       "6638  65 years and over                    Other America(2)   97.0  \n",
       "6639  65 years and over                           Australia  186.0  \n",
       "6640  65 years and over                         New Zealand   82.0  \n",
       "6641  65 years and over                     Other countries   50.0  "
      ]
     },
     "execution_count": 54,
     "metadata": {},
     "output_type": "execute_result"
    }
   ],
   "source": [
    "df_population.tail()"
   ]
  },
  {
   "cell_type": "code",
   "execution_count": 35,
   "id": "ea1e83dd",
   "metadata": {},
   "outputs": [
    {
     "name": "stdout",
     "output_type": "stream",
     "text": [
      "Year: [2011 2016 2022]\n",
      "Year categories: [2011 2016 2022]\n"
     ]
    }
   ],
   "source": [
    "print(f'Year: {df_population[\"Year\"].unique()}')\n",
    "print(f'Year categories: {df_population[\"Year\"].unique()}')"
   ]
  },
  {
   "cell_type": "code",
   "execution_count": 36,
   "id": "4d215ae8",
   "metadata": {
    "scrolled": true
   },
   "outputs": [
    {
     "name": "stdout",
     "output_type": "stream",
     "text": [
      "Gender: ['Both sexes' 'Male' 'Female']\n",
      "Gender categories: 3\n"
     ]
    }
   ],
   "source": [
    "print(f'Gender: {df_population[\"Gender\"].unique()}')\n",
    "print(f'Gender categories: {df_population[\"Gender\"].nunique()}')"
   ]
  },
  {
   "cell_type": "code",
   "execution_count": 37,
   "id": "13b72f95",
   "metadata": {
    "scrolled": true
   },
   "outputs": [
    {
     "name": "stdout",
     "output_type": "stream",
     "text": [
      "Age_group: ['All ages' '0 - 14 years' '15 - 24 years' '25 - 44 years' '45 - 64 years'\n",
      " '65 years and over']\n",
      "Age_group categories: 6\n"
     ]
    }
   ],
   "source": [
    "print(f'Age_group: {df_population[\"Age_group\"].unique()}')\n",
    "print(f'Age_group categories: {df_population[\"Age_group\"].nunique()}')"
   ]
  },
  {
   "cell_type": "code",
   "execution_count": 38,
   "id": "bba868b0",
   "metadata": {},
   "outputs": [
    {
     "name": "stdout",
     "output_type": "stream",
     "text": [
      "Nationality: ['All countries' 'Ireland - county of usual residence'\n",
      " 'Ireland - county other than county of usual residence'\n",
      " 'Northern Ireland' 'Scotland' 'England and Wales' 'Austria' 'Belgium'\n",
      " 'Bulgaria' 'Croatia' 'Cyprus' 'Czechia' 'Denmark' 'Estonia' 'Finland'\n",
      " 'France' 'Germany' 'Greece' 'Hungary' 'Italy' 'Latvia' 'Lithuania'\n",
      " 'Luxembourg' 'Malta' 'Netherlands (the)' 'Poland' 'Portugal' 'Romania'\n",
      " 'Slovakia' 'Slovenia' 'Spain' 'Sweden' 'Albania' 'Belarus'\n",
      " 'Bosnia and Herzegovina' 'Kosovo' 'Moldova (the Republic of)' 'Norway'\n",
      " 'Russian Federation (the)' 'Serbia' 'Switzerland' 'Turkiye' 'Ukraine'\n",
      " 'Other Europe(1)' 'Algeria' 'Angola' 'Botswana' 'Cameroon' 'Congo'\n",
      " 'Egypt' 'Ethiopia' 'Ghana' \"Côte d'Ivoire\" 'Kenya' 'Liberia' 'Libya'\n",
      " 'Malawi' 'Mauritius' 'Morocco' 'Nigeria' 'Sierra Leone' 'Somalia'\n",
      " 'South Africa' 'Sudan (the)' 'Tanzania, the United Republic of' 'Togo'\n",
      " 'Tunisia' 'Uganda' 'Zambia' 'Zimbabwe' 'Other Africa(2)' 'Afghanistan'\n",
      " 'Bahrain' 'Bangladesh' 'Myanmar' 'China' 'United Arab Emirates (the)'\n",
      " 'Georgia' 'Hong Kong' 'India' 'Indonesia' 'Iran (Islamic Republic of)'\n",
      " 'Iraq' 'Israel' 'Japan' 'Jordan' 'Kazakhstan' 'Kuwait'\n",
      " \"Lao People's Democratic Republic (the)\" 'Lebanon' 'Malaysia' 'Mongolia'\n",
      " 'Nepal' 'Oman' 'Pakistan' 'Philippines (the)' 'Saudi Arabia' 'Singapore'\n",
      " 'Korea (the Republic of) South Korea' 'Sri Lanka'\n",
      " 'Syrian Arab Republic (the)' 'Taiwan (Province of China)' 'Thailand'\n",
      " 'Uzbekistan' 'Viet Nam' 'Other Asia(1)' 'United States of America (the)'\n",
      " 'Argentina' 'Brazil' 'Canada' 'Chile' 'Colombia' 'Cuba' 'Guatemala'\n",
      " 'Jamaica' 'Mexico' 'Peru' 'Trinidad and Tobago'\n",
      " 'Venezuela (Bolivarian Republic of)' 'Other America(2)' 'Australia'\n",
      " 'New Zealand' 'Other countries']\n",
      "Nationality: 123\n"
     ]
    }
   ],
   "source": [
    "print(f'Nationality: {df_population[\"Nationality\"].unique()}')\n",
    "print(f'Nationality: {df_population[\"Nationality\"].nunique()}')"
   ]
  },
  {
   "cell_type": "code",
   "execution_count": 89,
   "id": "e2dcb272",
   "metadata": {},
   "outputs": [
    {
     "name": "stdout",
     "output_type": "stream",
     "text": [
      "['All countries' 'Ireland' 'Scotland' 'England and Wales' 'Austria'\n",
      " 'Belgium' 'Bulgaria' 'Croatia' 'Cyprus' 'Czechia' 'Denmark' 'Estonia'\n",
      " 'Finland' 'France' 'Germany' 'Greece' 'Hungary' 'Italy' 'Latvia'\n",
      " 'Lithuania' 'Luxembourg' 'Malta' 'Netherlands (the)' 'Poland' 'Portugal'\n",
      " 'Romania' 'Slovakia' 'Slovenia' 'Spain' 'Sweden' 'Albania' 'Belarus'\n",
      " 'Bosnia and Herzegovina' 'Kosovo' 'Moldova (the Republic of)' 'Norway'\n",
      " 'Russian Federation (the)' 'Serbia' 'Switzerland' 'Turkiye' 'Ukraine'\n",
      " 'Other Europe(1)' 'Algeria' 'Angola' 'Botswana' 'Cameroon' 'Congo'\n",
      " 'Egypt' 'Ethiopia' 'Ghana' \"Côte d'Ivoire\" 'Kenya' 'Liberia' 'Libya'\n",
      " 'Malawi' 'Mauritius' 'Morocco' 'Nigeria' 'Sierra Leone' 'Somalia'\n",
      " 'South Africa' 'Sudan (the)' 'Tanzania, the United Republic of' 'Togo'\n",
      " 'Tunisia' 'Uganda' 'Zambia' 'Zimbabwe' 'Other Africa(2)' 'Afghanistan'\n",
      " 'Bahrain' 'Bangladesh' 'Myanmar' 'China' 'United Arab Emirates (the)'\n",
      " 'Georgia' 'Hong Kong' 'India' 'Indonesia' 'Iran (Islamic Republic of)'\n",
      " 'Iraq' 'Israel' 'Japan' 'Jordan' 'Kazakhstan' 'Kuwait'\n",
      " \"Lao People's Democratic Republic (the)\" 'Lebanon' 'Malaysia' 'Mongolia'\n",
      " 'Nepal' 'Oman' 'Pakistan' 'Philippines (the)' 'Saudi Arabia' 'Singapore'\n",
      " 'Korea (the Republic of) South Korea' 'Sri Lanka'\n",
      " 'Syrian Arab Republic (the)' 'Taiwan (Province of China)' 'Thailand'\n",
      " 'Uzbekistan' 'Viet Nam' 'Other Asia(1)' 'United States of America (the)'\n",
      " 'Argentina' 'Brazil' 'Canada' 'Chile' 'Colombia' 'Cuba' 'Guatemala'\n",
      " 'Jamaica' 'Mexico' 'Peru' 'Trinidad and Tobago'\n",
      " 'Venezuela (Bolivarian Republic of)' 'Other America(2)' 'Australia'\n",
      " 'New Zealand' 'Other countries']\n"
     ]
    }
   ],
   "source": [
    "df[\"Nationality\"].replace([\"Ireland - county of usual residence\",\"Ireland - county other than county of usual residence\",\"Northern Ireland\"], \"Ireland\")\n",
    "print(df_population[\"Nationality\"].unique())"
   ]
  },
  {
   "cell_type": "code",
   "execution_count": 90,
   "id": "853c9061",
   "metadata": {},
   "outputs": [
    {
     "name": "stdout",
     "output_type": "stream",
     "text": [
      "Year: True\n",
      "Gender: False\n",
      "Age Group: False\n",
      "Nationality: False\n",
      "Value: True\n"
     ]
    }
   ],
   "source": [
    "print(f'Year: {pd.api.types.is_numeric_dtype(df_population.Year)}')\n",
    "print(f'Gender: {pd.api.types.is_numeric_dtype(df_population.Gender)}')\n",
    "print(f'Age Group: {pd.api.types.is_numeric_dtype(df_population.Age_group)}')\n",
    "print(f'Nationality: {pd.api.types.is_numeric_dtype(df_population.Nationality)}')\n",
    "print(f'Value: {pd.api.types.is_numeric_dtype(df_population.Value)}')"
   ]
  },
  {
   "cell_type": "code",
   "execution_count": 91,
   "id": "de1da703",
   "metadata": {
    "scrolled": false
   },
   "outputs": [
    {
     "data": {
      "text/plain": [
       "Stat_label     0\n",
       "Year           0\n",
       "Gender         0\n",
       "Age_group      0\n",
       "Nationality    0\n",
       "Value          0\n",
       "dtype: int64"
      ]
     },
     "execution_count": 91,
     "metadata": {},
     "output_type": "execute_result"
    }
   ],
   "source": [
    "df_population.isna().sum()"
   ]
  },
  {
   "cell_type": "code",
   "execution_count": 92,
   "id": "ca3c2cef",
   "metadata": {},
   "outputs": [
    {
     "data": {
      "text/plain": [
       "0"
      ]
     },
     "execution_count": 92,
     "metadata": {},
     "output_type": "execute_result"
    }
   ],
   "source": [
    "df_population.duplicated().sum()"
   ]
  },
  {
   "cell_type": "code",
   "execution_count": 93,
   "id": "a8f203a0",
   "metadata": {},
   "outputs": [
    {
     "data": {
      "text/html": [
       "<div>\n",
       "<style scoped>\n",
       "    .dataframe tbody tr th:only-of-type {\n",
       "        vertical-align: middle;\n",
       "    }\n",
       "\n",
       "    .dataframe tbody tr th {\n",
       "        vertical-align: top;\n",
       "    }\n",
       "\n",
       "    .dataframe thead th {\n",
       "        text-align: right;\n",
       "    }\n",
       "</style>\n",
       "<table border=\"1\" class=\"dataframe\">\n",
       "  <thead>\n",
       "    <tr style=\"text-align: right;\">\n",
       "      <th></th>\n",
       "      <th>Year</th>\n",
       "      <th>Value</th>\n",
       "    </tr>\n",
       "  </thead>\n",
       "  <tbody>\n",
       "    <tr>\n",
       "      <th>count</th>\n",
       "      <td>6642.000000</td>\n",
       "      <td>6.642000e+03</td>\n",
       "    </tr>\n",
       "    <tr>\n",
       "      <th>mean</th>\n",
       "      <td>2016.333333</td>\n",
       "      <td>1.722383e+04</td>\n",
       "    </tr>\n",
       "    <tr>\n",
       "      <th>std</th>\n",
       "      <td>4.497251</td>\n",
       "      <td>1.625123e+05</td>\n",
       "    </tr>\n",
       "    <tr>\n",
       "      <th>min</th>\n",
       "      <td>2011.000000</td>\n",
       "      <td>0.000000e+00</td>\n",
       "    </tr>\n",
       "    <tr>\n",
       "      <th>25%</th>\n",
       "      <td>2011.000000</td>\n",
       "      <td>4.500000e+01</td>\n",
       "    </tr>\n",
       "    <tr>\n",
       "      <th>50%</th>\n",
       "      <td>2016.000000</td>\n",
       "      <td>1.750000e+02</td>\n",
       "    </tr>\n",
       "    <tr>\n",
       "      <th>75%</th>\n",
       "      <td>2022.000000</td>\n",
       "      <td>7.567500e+02</td>\n",
       "    </tr>\n",
       "    <tr>\n",
       "      <th>max</th>\n",
       "      <td>2022.000000</td>\n",
       "      <td>5.084879e+06</td>\n",
       "    </tr>\n",
       "  </tbody>\n",
       "</table>\n",
       "</div>"
      ],
      "text/plain": [
       "              Year         Value\n",
       "count  6642.000000  6.642000e+03\n",
       "mean   2016.333333  1.722383e+04\n",
       "std       4.497251  1.625123e+05\n",
       "min    2011.000000  0.000000e+00\n",
       "25%    2011.000000  4.500000e+01\n",
       "50%    2016.000000  1.750000e+02\n",
       "75%    2022.000000  7.567500e+02\n",
       "max    2022.000000  5.084879e+06"
      ]
     },
     "execution_count": 93,
     "metadata": {},
     "output_type": "execute_result"
    }
   ],
   "source": [
    "df_population.describe()"
   ]
  },
  {
   "cell_type": "code",
   "execution_count": 94,
   "id": "f74a0235",
   "metadata": {},
   "outputs": [
    {
     "data": {
      "text/plain": [
       "(6642, 6)"
      ]
     },
     "execution_count": 94,
     "metadata": {},
     "output_type": "execute_result"
    }
   ],
   "source": [
    "df_population.shape"
   ]
  },
  {
   "cell_type": "code",
   "execution_count": 95,
   "id": "4539da8e",
   "metadata": {},
   "outputs": [
    {
     "name": "stdout",
     "output_type": "stream",
     "text": [
      "<class 'pandas.core.frame.DataFrame'>\n",
      "Int64Index: 6642 entries, 0 to 6641\n",
      "Data columns (total 6 columns):\n",
      " #   Column       Non-Null Count  Dtype  \n",
      "---  ------       --------------  -----  \n",
      " 0   Stat_label   6642 non-null   object \n",
      " 1   Year         6642 non-null   int64  \n",
      " 2   Gender       6642 non-null   object \n",
      " 3   Age_group    6642 non-null   object \n",
      " 4   Nationality  6642 non-null   object \n",
      " 5   Value        6642 non-null   float64\n",
      "dtypes: float64(1), int64(1), object(4)\n",
      "memory usage: 621.3+ KB\n"
     ]
    }
   ],
   "source": [
    "df_population.info()"
   ]
  },
  {
   "cell_type": "code",
   "execution_count": 96,
   "id": "7f0aea8a",
   "metadata": {},
   "outputs": [
    {
     "data": {
      "text/plain": [
       "Year\n",
       "2011    4525281.0\n",
       "2016    4689921.0\n",
       "2022    5084879.0\n",
       "Name: Value, dtype: float64"
      ]
     },
     "execution_count": 96,
     "metadata": {},
     "output_type": "execute_result"
    }
   ],
   "source": [
    "df_population.loc[df_population[\"Nationality\"] != \"All countries\"].loc[df_population[\"Gender\"] != \"Both sexes\"].loc[df_population[\"Age_group\"] != \"All ages\"].groupby(\"Year\")[\"Value\"].sum()"
   ]
  },
  {
   "cell_type": "code",
   "execution_count": 97,
   "id": "fb23ef83",
   "metadata": {
    "scrolled": false
   },
   "outputs": [
    {
     "data": {
      "text/plain": [
       "Year\n",
       "2011    4525281.0\n",
       "2016    4689921.0\n",
       "2022    5084879.0\n",
       "Name: Value, dtype: float64"
      ]
     },
     "execution_count": 97,
     "metadata": {},
     "output_type": "execute_result"
    }
   ],
   "source": [
    "df_population.loc[df_population[\"Nationality\"] == \"All countries\"].loc[df_population[\"Gender\"] == \"Both sexes\"].loc[df_population[\"Age_group\"] == \"All ages\"].groupby(\"Year\")[\"Value\"].sum()"
   ]
  },
  {
   "cell_type": "code",
   "execution_count": 98,
   "id": "439ca5da",
   "metadata": {},
   "outputs": [
    {
     "data": {
      "text/html": [
       "<div>\n",
       "<style scoped>\n",
       "    .dataframe tbody tr th:only-of-type {\n",
       "        vertical-align: middle;\n",
       "    }\n",
       "\n",
       "    .dataframe tbody tr th {\n",
       "        vertical-align: top;\n",
       "    }\n",
       "\n",
       "    .dataframe thead th {\n",
       "        text-align: right;\n",
       "    }\n",
       "</style>\n",
       "<table border=\"1\" class=\"dataframe\">\n",
       "  <thead>\n",
       "    <tr style=\"text-align: right;\">\n",
       "      <th></th>\n",
       "      <th>Stat_label</th>\n",
       "      <th>Year</th>\n",
       "      <th>Gender</th>\n",
       "      <th>Age_group</th>\n",
       "      <th>Nationality</th>\n",
       "      <th>Value</th>\n",
       "    </tr>\n",
       "  </thead>\n",
       "  <tbody>\n",
       "    <tr>\n",
       "      <th>0</th>\n",
       "      <td>Population Usually Resident and Present in the...</td>\n",
       "      <td>2011</td>\n",
       "      <td>Both sexes</td>\n",
       "      <td>All ages</td>\n",
       "      <td>All countries</td>\n",
       "      <td>4525281.0</td>\n",
       "    </tr>\n",
       "    <tr>\n",
       "      <th>2214</th>\n",
       "      <td>Population Usually Resident and Present in the...</td>\n",
       "      <td>2016</td>\n",
       "      <td>Both sexes</td>\n",
       "      <td>All ages</td>\n",
       "      <td>All countries</td>\n",
       "      <td>4689921.0</td>\n",
       "    </tr>\n",
       "    <tr>\n",
       "      <th>4428</th>\n",
       "      <td>Population Usually Resident and Present in the...</td>\n",
       "      <td>2022</td>\n",
       "      <td>Both sexes</td>\n",
       "      <td>All ages</td>\n",
       "      <td>All countries</td>\n",
       "      <td>5084879.0</td>\n",
       "    </tr>\n",
       "  </tbody>\n",
       "</table>\n",
       "</div>"
      ],
      "text/plain": [
       "                                             Stat_label  Year      Gender  \\\n",
       "0     Population Usually Resident and Present in the...  2011  Both sexes   \n",
       "2214  Population Usually Resident and Present in the...  2016  Both sexes   \n",
       "4428  Population Usually Resident and Present in the...  2022  Both sexes   \n",
       "\n",
       "     Age_group    Nationality      Value  \n",
       "0     All ages  All countries  4525281.0  \n",
       "2214  All ages  All countries  4689921.0  \n",
       "4428  All ages  All countries  5084879.0  "
      ]
     },
     "execution_count": 98,
     "metadata": {},
     "output_type": "execute_result"
    }
   ],
   "source": [
    "df_population_general = df_population.loc[df_population[\"Nationality\"] == \"All countries\"].loc[df_population[\"Gender\"] == \"Both sexes\"].loc[df_population[\"Age_group\"] == \"All ages\"]\n",
    "df_population_general"
   ]
  },
  {
   "cell_type": "code",
   "execution_count": 104,
   "id": "6ed79c61",
   "metadata": {},
   "outputs": [
    {
     "data": {
      "text/html": [
       "<div>\n",
       "<style scoped>\n",
       "    .dataframe tbody tr th:only-of-type {\n",
       "        vertical-align: middle;\n",
       "    }\n",
       "\n",
       "    .dataframe tbody tr th {\n",
       "        vertical-align: top;\n",
       "    }\n",
       "\n",
       "    .dataframe thead th {\n",
       "        text-align: right;\n",
       "    }\n",
       "</style>\n",
       "<table border=\"1\" class=\"dataframe\">\n",
       "  <thead>\n",
       "    <tr style=\"text-align: right;\">\n",
       "      <th></th>\n",
       "      <th>Stat_label</th>\n",
       "      <th>Year</th>\n",
       "      <th>Gender</th>\n",
       "      <th>Age_group</th>\n",
       "      <th>Nationality</th>\n",
       "      <th>Value</th>\n",
       "    </tr>\n",
       "  </thead>\n",
       "  <tbody>\n",
       "    <tr>\n",
       "      <th>862</th>\n",
       "      <td>Population Usually Resident and Present in the...</td>\n",
       "      <td>2011</td>\n",
       "      <td>Male</td>\n",
       "      <td>0 - 14 years</td>\n",
       "      <td>Ireland</td>\n",
       "      <td>374693.0</td>\n",
       "    </tr>\n",
       "    <tr>\n",
       "      <th>863</th>\n",
       "      <td>Population Usually Resident and Present in the...</td>\n",
       "      <td>2011</td>\n",
       "      <td>Male</td>\n",
       "      <td>0 - 14 years</td>\n",
       "      <td>Ireland</td>\n",
       "      <td>76066.0</td>\n",
       "    </tr>\n",
       "    <tr>\n",
       "      <th>864</th>\n",
       "      <td>Population Usually Resident and Present in the...</td>\n",
       "      <td>2011</td>\n",
       "      <td>Male</td>\n",
       "      <td>0 - 14 years</td>\n",
       "      <td>Ireland</td>\n",
       "      <td>3948.0</td>\n",
       "    </tr>\n",
       "    <tr>\n",
       "      <th>865</th>\n",
       "      <td>Population Usually Resident and Present in the...</td>\n",
       "      <td>2011</td>\n",
       "      <td>Male</td>\n",
       "      <td>0 - 14 years</td>\n",
       "      <td>Scotland</td>\n",
       "      <td>641.0</td>\n",
       "    </tr>\n",
       "    <tr>\n",
       "      <th>866</th>\n",
       "      <td>Population Usually Resident and Present in the...</td>\n",
       "      <td>2011</td>\n",
       "      <td>Male</td>\n",
       "      <td>0 - 14 years</td>\n",
       "      <td>England and Wales</td>\n",
       "      <td>11268.0</td>\n",
       "    </tr>\n",
       "    <tr>\n",
       "      <th>...</th>\n",
       "      <td>...</td>\n",
       "      <td>...</td>\n",
       "      <td>...</td>\n",
       "      <td>...</td>\n",
       "      <td>...</td>\n",
       "      <td>...</td>\n",
       "    </tr>\n",
       "    <tr>\n",
       "      <th>6637</th>\n",
       "      <td>Population Usually Resident and Present in the...</td>\n",
       "      <td>2022</td>\n",
       "      <td>Female</td>\n",
       "      <td>65 years and over</td>\n",
       "      <td>Venezuela (Bolivarian Republic of)</td>\n",
       "      <td>23.0</td>\n",
       "    </tr>\n",
       "    <tr>\n",
       "      <th>6638</th>\n",
       "      <td>Population Usually Resident and Present in the...</td>\n",
       "      <td>2022</td>\n",
       "      <td>Female</td>\n",
       "      <td>65 years and over</td>\n",
       "      <td>Other America(2)</td>\n",
       "      <td>97.0</td>\n",
       "    </tr>\n",
       "    <tr>\n",
       "      <th>6639</th>\n",
       "      <td>Population Usually Resident and Present in the...</td>\n",
       "      <td>2022</td>\n",
       "      <td>Female</td>\n",
       "      <td>65 years and over</td>\n",
       "      <td>Australia</td>\n",
       "      <td>186.0</td>\n",
       "    </tr>\n",
       "    <tr>\n",
       "      <th>6640</th>\n",
       "      <td>Population Usually Resident and Present in the...</td>\n",
       "      <td>2022</td>\n",
       "      <td>Female</td>\n",
       "      <td>65 years and over</td>\n",
       "      <td>New Zealand</td>\n",
       "      <td>82.0</td>\n",
       "    </tr>\n",
       "    <tr>\n",
       "      <th>6641</th>\n",
       "      <td>Population Usually Resident and Present in the...</td>\n",
       "      <td>2022</td>\n",
       "      <td>Female</td>\n",
       "      <td>65 years and over</td>\n",
       "      <td>Other countries</td>\n",
       "      <td>50.0</td>\n",
       "    </tr>\n",
       "  </tbody>\n",
       "</table>\n",
       "<p>3660 rows × 6 columns</p>\n",
       "</div>"
      ],
      "text/plain": [
       "                                             Stat_label  Year  Gender  \\\n",
       "862   Population Usually Resident and Present in the...  2011    Male   \n",
       "863   Population Usually Resident and Present in the...  2011    Male   \n",
       "864   Population Usually Resident and Present in the...  2011    Male   \n",
       "865   Population Usually Resident and Present in the...  2011    Male   \n",
       "866   Population Usually Resident and Present in the...  2011    Male   \n",
       "...                                                 ...   ...     ...   \n",
       "6637  Population Usually Resident and Present in the...  2022  Female   \n",
       "6638  Population Usually Resident and Present in the...  2022  Female   \n",
       "6639  Population Usually Resident and Present in the...  2022  Female   \n",
       "6640  Population Usually Resident and Present in the...  2022  Female   \n",
       "6641  Population Usually Resident and Present in the...  2022  Female   \n",
       "\n",
       "              Age_group                         Nationality     Value  \n",
       "862        0 - 14 years                             Ireland  374693.0  \n",
       "863        0 - 14 years                             Ireland   76066.0  \n",
       "864        0 - 14 years                             Ireland    3948.0  \n",
       "865        0 - 14 years                            Scotland     641.0  \n",
       "866        0 - 14 years                   England and Wales   11268.0  \n",
       "...                 ...                                 ...       ...  \n",
       "6637  65 years and over  Venezuela (Bolivarian Republic of)      23.0  \n",
       "6638  65 years and over                    Other America(2)      97.0  \n",
       "6639  65 years and over                           Australia     186.0  \n",
       "6640  65 years and over                         New Zealand      82.0  \n",
       "6641  65 years and over                     Other countries      50.0  \n",
       "\n",
       "[3660 rows x 6 columns]"
      ]
     },
     "execution_count": 104,
     "metadata": {},
     "output_type": "execute_result"
    }
   ],
   "source": [
    "df_population_expanded = df_population.loc[df_population[\"Nationality\"] != \"All countries\"].loc[df_population[\"Gender\"] != \"Both sexes\"].loc[df_population[\"Age_group\"] != \"All ages\"]\n",
    "df_population_expanded"
   ]
  },
  {
   "cell_type": "code",
   "execution_count": 99,
   "id": "406374ca",
   "metadata": {},
   "outputs": [
    {
     "data": {
      "text/plain": [
       "<Axes: xlabel='Year', ylabel='Value'>"
      ]
     },
     "execution_count": 99,
     "metadata": {},
     "output_type": "execute_result"
    },
    {
     "data": {
      "image/png": "[encoded data removed]",
      "text/plain": [
       "<Figure size 640x480 with 1 Axes>"
      ]
     },
     "metadata": {},
     "output_type": "display_data"
    }
   ],
   "source": [
    "sns.barplot(data = df_population_general, x = \"Year\", y = \"Value\")"
   ]
  },
  {
   "cell_type": "code",
   "execution_count": 100,
   "id": "857008bd",
   "metadata": {},
   "outputs": [
    {
     "data": {
      "text/plain": [
       "<matplotlib.legend.Legend at 0x21457341c50>"
      ]
     },
     "execution_count": 100,
     "metadata": {},
     "output_type": "execute_result"
    },
    {
     "data": {
      "image/png": "[encoded data removed]",
      "text/plain": [
       "<Figure size 640x480 with 1 Axes>"
      ]
     },
     "metadata": {},
     "output_type": "display_data"
    }
   ],
   "source": [
    "sns.barplot(data = df_population.loc[df_population[\"Nationality\"] == \"All countries\"].loc[df_population[\"Gender\"] == \"Both sexes\"].loc[df_population[\"Age_group\"] != \"All ages\"], x = \"Year\", y = \"Value\", hue = \"Age_group\");\n",
    "plt.legend(loc = \"upper right\", bbox_to_anchor = (1.5,1))"
   ]
  },
  {
   "cell_type": "code",
   "execution_count": 178,
   "id": "031c1556",
   "metadata": {},
   "outputs": [],
   "source": [
    "countries = { \"country\": [],\"population\":[] }\n",
    "for i,row in df_population.iterrows():\n",
    "    if not row[\"Year\"] == 2011 or not row[\"Gender\"] == \"Both sexes\" or not row[\"Age_group\"] == \"All ages\" or row[\"Nationality\"]==\"All countries\":\n",
    "        continue\n",
    "    \n",
    "    try:\n",
    "        if row[\"Nationality\"] in countries[\"country\"]:\n",
    "            country_Index = countries[\"country\"].index(f'{row[\"Nationality\"]}')\n",
    "            countries[\"population\"][country_Index]+=row[\"Value\"]\n",
    "        else:\n",
    "            countries[\"country\"].append(row[\"Nationality\"])\n",
    "            countries[\"population\"].append(row[\"Value\"])\n",
    "        \n",
    "    except:\n",
    "        countries[\"country\"].append(row[\"Nationality\"])\n",
    "        countries[\"population\"].append(row[\"Value\"])"
   ]
  },
  {
   "cell_type": "code",
   "execution_count": 159,
   "id": "9ad69415",
   "metadata": {},
   "outputs": [
    {
     "data": {
      "text/plain": [
       "False"
      ]
     },
     "execution_count": 159,
     "metadata": {},
     "output_type": "execute_result"
    }
   ],
   "source": [
    "'Honduras' in ['Ireland', 'Ireland', 'Scotland', 'England and Wales'] "
   ]
  },
  {
   "cell_type": "code",
   "execution_count": 164,
   "id": "3e72151c",
   "metadata": {},
   "outputs": [],
   "source": [
    "df_general = pd.DataFrame.from_dict(countries)"
   ]
  },
  {
   "cell_type": "code",
   "execution_count": 137,
   "id": "395498a5",
   "metadata": {},
   "outputs": [],
   "source": [
    "df_general.rename(columns={0:\"Population\"},inplace=True)"
   ]
  },
  {
   "cell_type": "code",
   "execution_count": 165,
   "id": "208d9cfd",
   "metadata": {},
   "outputs": [
    {
     "name": "stdout",
     "output_type": "stream",
     "text": [
      "<class 'pandas.core.frame.DataFrame'>\n",
      "RangeIndex: 120 entries, 0 to 119\n",
      "Data columns (total 2 columns):\n",
      " #   Column      Non-Null Count  Dtype  \n",
      "---  ------      --------------  -----  \n",
      " 0   country     120 non-null    object \n",
      " 1   population  120 non-null    float64\n",
      "dtypes: float64(1), object(1)\n",
      "memory usage: 2.0+ KB\n"
     ]
    }
   ],
   "source": [
    "df_general.info()"
   ]
  },
  {
   "cell_type": "code",
   "execution_count": 166,
   "id": "1092aa16",
   "metadata": {},
   "outputs": [
    {
     "data": {
      "text/html": [
       "<div>\n",
       "<style scoped>\n",
       "    .dataframe tbody tr th:only-of-type {\n",
       "        vertical-align: middle;\n",
       "    }\n",
       "\n",
       "    .dataframe tbody tr th {\n",
       "        vertical-align: top;\n",
       "    }\n",
       "\n",
       "    .dataframe thead th {\n",
       "        text-align: right;\n",
       "    }\n",
       "</style>\n",
       "<table border=\"1\" class=\"dataframe\">\n",
       "  <thead>\n",
       "    <tr style=\"text-align: right;\">\n",
       "      <th></th>\n",
       "      <th>country</th>\n",
       "      <th>population</th>\n",
       "    </tr>\n",
       "  </thead>\n",
       "  <tbody>\n",
       "    <tr>\n",
       "      <th>0</th>\n",
       "      <td>Ireland</td>\n",
       "      <td>3816981.0</td>\n",
       "    </tr>\n",
       "    <tr>\n",
       "      <th>2</th>\n",
       "      <td>England and Wales</td>\n",
       "      <td>212296.0</td>\n",
       "    </tr>\n",
       "    <tr>\n",
       "      <th>22</th>\n",
       "      <td>Poland</td>\n",
       "      <td>115193.0</td>\n",
       "    </tr>\n",
       "    <tr>\n",
       "      <th>18</th>\n",
       "      <td>Lithuania</td>\n",
       "      <td>34847.0</td>\n",
       "    </tr>\n",
       "    <tr>\n",
       "      <th>103</th>\n",
       "      <td>United States of America (the)</td>\n",
       "      <td>27726.0</td>\n",
       "    </tr>\n",
       "    <tr>\n",
       "      <th>17</th>\n",
       "      <td>Latvia</td>\n",
       "      <td>19989.0</td>\n",
       "    </tr>\n",
       "    <tr>\n",
       "      <th>56</th>\n",
       "      <td>Nigeria</td>\n",
       "      <td>19780.0</td>\n",
       "    </tr>\n",
       "    <tr>\n",
       "      <th>24</th>\n",
       "      <td>Romania</td>\n",
       "      <td>17995.0</td>\n",
       "    </tr>\n",
       "    <tr>\n",
       "      <th>1</th>\n",
       "      <td>Scotland</td>\n",
       "      <td>17871.0</td>\n",
       "    </tr>\n",
       "    <tr>\n",
       "      <th>76</th>\n",
       "      <td>India</td>\n",
       "      <td>17856.0</td>\n",
       "    </tr>\n",
       "    <tr>\n",
       "      <th>92</th>\n",
       "      <td>Philippines (the)</td>\n",
       "      <td>13833.0</td>\n",
       "    </tr>\n",
       "    <tr>\n",
       "      <th>13</th>\n",
       "      <td>Germany</td>\n",
       "      <td>12980.0</td>\n",
       "    </tr>\n",
       "    <tr>\n",
       "      <th>72</th>\n",
       "      <td>China</td>\n",
       "      <td>11458.0</td>\n",
       "    </tr>\n",
       "    <tr>\n",
       "      <th>25</th>\n",
       "      <td>Slovakia</td>\n",
       "      <td>10695.0</td>\n",
       "    </tr>\n",
       "    <tr>\n",
       "      <th>12</th>\n",
       "      <td>France</td>\n",
       "      <td>10081.0</td>\n",
       "    </tr>\n",
       "    <tr>\n",
       "      <th>105</th>\n",
       "      <td>Brazil</td>\n",
       "      <td>9298.0</td>\n",
       "    </tr>\n",
       "    <tr>\n",
       "      <th>91</th>\n",
       "      <td>Pakistan</td>\n",
       "      <td>8329.0</td>\n",
       "    </tr>\n",
       "    <tr>\n",
       "      <th>59</th>\n",
       "      <td>South Africa</td>\n",
       "      <td>8116.0</td>\n",
       "    </tr>\n",
       "    <tr>\n",
       "      <th>15</th>\n",
       "      <td>Hungary</td>\n",
       "      <td>7413.0</td>\n",
       "    </tr>\n",
       "    <tr>\n",
       "      <th>16</th>\n",
       "      <td>Italy</td>\n",
       "      <td>7146.0</td>\n",
       "    </tr>\n",
       "  </tbody>\n",
       "</table>\n",
       "</div>"
      ],
      "text/plain": [
       "                            country  population\n",
       "0                           Ireland   3816981.0\n",
       "2                 England and Wales    212296.0\n",
       "22                           Poland    115193.0\n",
       "18                        Lithuania     34847.0\n",
       "103  United States of America (the)     27726.0\n",
       "17                           Latvia     19989.0\n",
       "56                          Nigeria     19780.0\n",
       "24                          Romania     17995.0\n",
       "1                          Scotland     17871.0\n",
       "76                            India     17856.0\n",
       "92                Philippines (the)     13833.0\n",
       "13                          Germany     12980.0\n",
       "72                            China     11458.0\n",
       "25                         Slovakia     10695.0\n",
       "12                           France     10081.0\n",
       "105                          Brazil      9298.0\n",
       "91                         Pakistan      8329.0\n",
       "59                     South Africa      8116.0\n",
       "15                          Hungary      7413.0\n",
       "16                            Italy      7146.0"
      ]
     },
     "execution_count": 166,
     "metadata": {},
     "output_type": "execute_result"
    }
   ],
   "source": [
    "df_general.sort_values(by=\"population\", ascending=False).head(20)"
   ]
  },
  {
   "cell_type": "code",
   "execution_count": 179,
   "id": "7e2b8df1",
   "metadata": {},
   "outputs": [
    {
     "data": {
      "image/png": "[encoded data removed]",
      "text/plain": [
       "<Figure size 640x480 with 1 Axes>"
      ]
     },
     "metadata": {},
     "output_type": "display_data"
    }
   ],
   "source": [
    "\n",
    "sns.barplot(data =df_general.loc[df_general[\"country\"]!=\"Ireland\"].sort_values(by=\"population\", ascending=False).head(10), x=\"population\",y=\"country\" );"
   ]
  }
 ],
 "metadata": {
  "kernelspec": {
   "display_name": "Python 3 (ipykernel)",
   "language": "python",
   "name": "python3"
  },
  "language_info": {
   "codemirror_mode": {
    "name": "ipython",
    "version": 3
   },
   "file_extension": ".py",
   "mimetype": "text/x-python",
   "name": "python",
   "nbconvert_exporter": "python",
   "pygments_lexer": "ipython3",
   "version": "3.11.4"
  }
 },
 "nbformat": 4,
 "nbformat_minor": 5
}
